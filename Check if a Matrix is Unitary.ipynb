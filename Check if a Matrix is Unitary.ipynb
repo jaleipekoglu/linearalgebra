{
 "cells": [
  {
   "cell_type": "code",
   "execution_count": 6,
   "metadata": {},
   "outputs": [
    {
     "name": "stdout",
     "output_type": "stream",
     "text": [
      "A_inverse [[1.        +0.j         0.        +0.j        ]\n",
      " [0.        +0.j         0.70710678-0.70710678j]]\n",
      "A_ctranspose [[1.        -0.j         0.        -0.j        ]\n",
      " [0.        -0.j         0.70710678-0.70710678j]]\n",
      "A is unitary\n"
     ]
    }
   ],
   "source": [
    "import numpy as np\n",
    "from cmath import *\n",
    "\n",
    "a=1\n",
    "b=0\n",
    "c=0\n",
    "d=exp(1j*pi/4)\n",
    "A = np.matrix([[a,b],\n",
    "              [c,d]])\n",
    "  \n",
    "# Calculating the inverse of the matrix\n",
    "A_inverse = np.linalg.inv(A)\n",
    "    \n",
    "A_ctranspose = A.getH()\n",
    "\n",
    "print(\"A_inverse\", A_inverse)\n",
    "print(\"A_ctranspose\", A_ctranspose)\n",
    "if np.allclose(A_inverse, A_ctranspose):\n",
    "    print(\"A is unitary\")\n",
    "else:\n",
    "    print(\"A is NOT unitary\")\n"
   ]
  },
  {
   "cell_type": "code",
   "execution_count": null,
   "metadata": {},
   "outputs": [],
   "source": []
  }
 ],
 "metadata": {
  "kernelspec": {
   "display_name": "Python 3",
   "language": "python",
   "name": "python3"
  },
  "language_info": {
   "codemirror_mode": {
    "name": "ipython",
    "version": 3
   },
   "file_extension": ".py",
   "mimetype": "text/x-python",
   "name": "python",
   "nbconvert_exporter": "python",
   "pygments_lexer": "ipython3",
   "version": "3.7.3"
  }
 },
 "nbformat": 4,
 "nbformat_minor": 2
}
